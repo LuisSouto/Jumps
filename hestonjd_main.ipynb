{
 "cells": [
  {
   "cell_type": "code",
   "execution_count": 20,
   "outputs": [],
   "source": [
    "import sys\n",
    "import numpy as np\n",
    "import matplotlib.pyplot as plt\n",
    "import pandas as pd\n",
    "import py_vollib.black_scholes.implied_volatility as bs\n",
    "import time\n",
    "from scipy.interpolate import CubicSpline\n",
    "\n",
    "import cos_method as COS\n",
    "from hawkes_class import Hawkes\n",
    "from qhawkes_class import QHawkes\n",
    "from heston_class import Heston\n",
    "from jumpdiff_class import JumpDiffusion\n",
    "from poisson_class import Poisson\n",
    "from pricing_functions import price_vanilla\n",
    "\n",
    "np.set_printoptions(threshold=sys.maxsize)"
   ],
   "metadata": {
    "collapsed": false,
    "pycharm": {
     "name": "#%%\n"
    }
   }
  },
  {
   "cell_type": "markdown",
   "source": [
    "Characteristic function of the Bates model for Bermudan option pricing (should go in its proper class in future update)"
   ],
   "metadata": {
    "collapsed": false,
    "pycharm": {
     "name": "#%% md\n"
    }
   }
  },
  {
   "cell_type": "code",
   "execution_count": 21,
   "outputs": [],
   "source": [
    "def bates_cf_bermudan(u,t,n,heston_cf_bermudan,poi_cf):\n",
    "    cfV,vV = heston_cf_bermudan(u,t,n)\n",
    "    return cfV*poi_cf(u,t),vV"
   ],
   "metadata": {
    "collapsed": false,
    "pycharm": {
     "name": "#%%\n"
    }
   }
  },
  {
   "cell_type": "markdown",
   "source": [
    "Initialize parameters"
   ],
   "metadata": {
    "collapsed": false,
    "pycharm": {
     "name": "#%% md\n"
    }
   }
  },
  {
   "cell_type": "code",
   "execution_count": 31,
   "outputs": [],
   "source": [
    "T  = 1                     # Maturity\n",
    "N  = 10000                 # MC paths\n",
    "S0 = 9                     # Asset's initial value\n",
    "K  = 10                    # Strike\n",
    "X0 = np.log(S0/K)          # Normalized log-stock\n",
    "r  = 0.1                   # Interest rate\n",
    "\n",
    "# Diffusion parameters\n",
    "V0   = 0.0625   # Initial value\n",
    "rho  = 0.1      # Correlation\n",
    "eta  = 0.9      # Vol of vol\n",
    "lamb = 5        # Speed of mean-reversion\n",
    "nu   = 0.16     # Long-term variance\n",
    "\n",
    "# Jump parameters\n",
    "a  = 2.9                   # Clustering rate\n",
    "b  = 3.                    # Expiration rate\n",
    "hb = 1.1                   # Baseline intensity\n",
    "Q0 = 2                     # Initial activation\n",
    "h0 = hb + a*Q0             # Initial intensity\n",
    "mj = 0.3                   # Mean of log-jump size\n",
    "sj = 0.4                   # Volatility of log-jump size\n",
    "\n",
    "# Characteristic function and cumulants of the log-jump size distribution.\n",
    "# Here we assume a normal distribution.\n",
    "eJ = np.exp(mj+sj**2/2)-1\n",
    "fu = lambda u: np.exp(1j*u*mj-sj**2*u**2/2)\n",
    "cm = [mj,mj**2+sj**2,mj**3+3*mj*sj**2,mj**4+6*mj**2*sj**2+3*sj**4]"
   ],
   "metadata": {
    "collapsed": false,
    "pycharm": {
     "name": "#%%\n"
    }
   }
  },
  {
   "cell_type": "markdown",
   "source": [
    "Initialize the classes"
   ],
   "metadata": {
    "collapsed": false,
    "pycharm": {
     "name": "#%% md\n"
    }
   }
  },
  {
   "cell_type": "code",
   "execution_count": 32,
   "outputs": [],
   "source": [
    "qhawk    = QHawkes(a,b,hb,Q0,cm,eJ,fu)\n",
    "hawk     = Hawkes(a,b,hb,Q0,cm,eJ,fu)\n",
    "poi      = Poisson(a,b,hb,Q0,cm,eJ,fu)\n",
    "heston   = Heston(S0,V0,r,lamb,nu,eta,rho)\n",
    "heston_e = JumpDiffusion(heston,qhawk)\n",
    "heston_h = JumpDiffusion(heston,hawk)\n",
    "heston_p = JumpDiffusion(heston,poi)"
   ],
   "metadata": {
    "collapsed": false,
    "pycharm": {
     "name": "#%%\n"
    }
   }
  },
  {
   "cell_type": "markdown",
   "source": [
    "Price European options"
   ],
   "metadata": {
    "collapsed": false,
    "pycharm": {
     "name": "#%% md\n"
    }
   }
  },
  {
   "cell_type": "code",
   "execution_count": 33,
   "outputs": [
    {
     "data": {
      "text/plain": "<Figure size 432x288 with 1 Axes>",
      "image/png": "[encoded data removed]"
     },
     "metadata": {
      "needs_background": "light"
     },
     "output_type": "display_data"
    },
    {
     "data": {
      "text/plain": "<Figure size 432x288 with 1 Axes>",
      "image/png": "[encoded data removed]"
     },
     "metadata": {
      "needs_background": "light"
     },
     "output_type": "display_data"
    }
   ],
   "source": [
    "x0  = np.array([0,V0,Q0])\n",
    "Kv  = S0*np.linspace(0.8,1.2,21,endpoint=True)  # Strike grid\n",
    "Tv  = np.linspace(0.1,2,20,endpoint=True)       # Maturity grid\n",
    "nK  = Kv.size\n",
    "nT  = Tv.size\n",
    "\n",
    "Pq,IVq,Delta_q = price_vanilla(heston_e,S0,Tv,Kv,r,x0,alpha=-1)\n",
    "Ph,IVh,Delta_h = price_vanilla(heston_h,S0,Tv,Kv,r,x0,alpha=-1)\n",
    "Pp,IVp,Delta_p = price_vanilla(heston_p,S0,Tv,Kv,r,x0,alpha=-1)\n",
    "\n",
    "# Fixed strike\n",
    "idK = 10\n",
    "plt.figure()\n",
    "plt.plot(Tv,IVq[:,idK],'r*')\n",
    "plt.plot(Tv,IVh[:,idK],'bx')\n",
    "plt.plot(Tv,IVp[:,idK],'g^')\n",
    "plt.xlabel('Maturity',fontsize=16)\n",
    "plt.ylabel('Implied volatility',fontsize=16)\n",
    "plt.legend(('Q-Hawkes','Hawkes','Poisson'),fontsize=12,loc='lower right')\n",
    "plt.show()\n",
    "\n",
    "# Fixed maturity\n",
    "idT = 9\n",
    "plt.figure()\n",
    "plt.plot(Kv,IVq[idT,:],'r*')\n",
    "plt.plot(Kv,IVh[idT,:],'bx')\n",
    "plt.plot(Kv,IVp[idT,:],'g^')\n",
    "plt.xlabel('Strike',fontsize=16)\n",
    "plt.ylabel('Implied volatility',fontsize=16)\n",
    "plt.legend(('Q-Hawkes','Hawkes','Poisson'),fontsize=12)\n",
    "plt.show()"
   ],
   "metadata": {
    "collapsed": false,
    "pycharm": {
     "name": "#%%\n"
    }
   }
  },
  {
   "cell_type": "markdown",
   "source": [
    "Price Bermudan options"
   ],
   "metadata": {
    "collapsed": false,
    "pycharm": {
     "name": "#%% md\n"
    }
   }
  },
  {
   "cell_type": "code",
   "execution_count": null,
   "outputs": [],
   "source": [
    "cfV     = lambda u,t,n: heston.cf_bermudan(u,Tv[idT],t,n)\n",
    "cfPoi   = lambda u,t:   poi.cf_cj(u,0,t,Q0)\n",
    "cfBates = lambda u,t,n: bates_cf_bermudan(u,t,n,cfV,cfPoi)\n",
    "cfQ     = lambda u,t,n: qhawk.cf_bermudan(u,t,n)\n",
    "cfH     = lambda u,t,n: hawk.cf_bermudan(u,t,n)\n",
    "\n",
    "av,bv = heston.logvar_bounds(Tv[idT])   # Boundaries for the Heston variance\n",
    "\n",
    "nM   = 10\n",
    "M    = np.arange(1,nM+1)                # Number of exercise dates\n",
    "Pq2  = np.zeros((nM,))                  # Prices\n",
    "Pp2  = np.zeros_like(Pq2)\n",
    "Ph2  = np.zeros_like(Pq2)\n",
    "IVbe = np.zeros_like(Pq2)               # Implied volatilities\n",
    "IVbh = np.zeros_like(Pq2)\n",
    "IVbp = np.zeros_like(Pq2)\n",
    "\n",
    "time_e = 0\n",
    "time_h = 0\n",
    "time_p = 0\n",
    "nrep   = 1                              # Number of repetitions (for profiling purposes)\n",
    "for k in range(nrep):\n",
    "    for i in range(nM):\n",
    "        # Heston-Q-Hawkes\n",
    "        cme      = heston_e.cumulants_cos(Tv[idT]/M[i])\n",
    "        cme[0]  -= np.log(Kv[idK])\n",
    "        time1    = time.time()\n",
    "        Pb,Vb,Qb = COS.bermudan_put_3D(S0,Kv[idK],Tv[idT],r,cme,M[i],cfV,\n",
    "                                       cfQ,N1=2**6,n1=2**5,n2=2**5)\n",
    "        time_e += (time.time()-time1)\n",
    "        Pq2[i]  = CubicSpline(Vb,Pb[:,Q0,:],axis=0)(V0)\n",
    "        IVbe[i] = bs.implied_volatility(Pq2[i],S0,Kv[idK],Tv[idT],r,'p')\n",
    "        #\n",
    "        # Bates model\n",
    "        cmp         = heston_p.cumulants_cos(Tv[idT]/M[i])\n",
    "        cmp[0]     -= np.log(Kv[idK])\n",
    "        time1       = time.time()\n",
    "        Pbp,Vbp,Qbp = COS.bermudan_put_3D(S0,Kv[idK],Tv[idT],r,cmp,M[i],cfBates,\n",
    "                                          N1=2**6,n1=2**5)\n",
    "        time_p += (time.time()-time1)\n",
    "        Pp2[i]  = CubicSpline(Vbp,Pbp,axis=0)(V0)\n",
    "        IVbp[i] = bs.implied_volatility(Pp2[i],S0,Kv[idK],Tv[idT],r,'p')\n",
    "\n",
    "        # Heston-Hawkes\n",
    "        cmh         = heston_h.cumulants_cos(Tv[idT]/M[i])\n",
    "        cmh[0]     -= np.log(Kv[idK])\n",
    "        time1       = time.time()\n",
    "        Pbh,Vbh,Qbh = COS.bermudan_put_3D(S0,Kv[idK],Tv[idT],r,cmh,M[i],cfV,\n",
    "                                          cfH,N1=2**6,n1=2**5,n2=2**5)\n",
    "        time_h += (time.time()-time1)\n",
    "        Pbh     = CubicSpline(Qbh,Pbh,axis=1)\n",
    "        Ph2[i]  = CubicSpline(Vbh,Pbh(Q0))(V0)\n",
    "        IVbh[i] = bs.implied_volatility(Ph2[i],S0,Kv[idK],Tv[idT],r,'p')\n",
    "\n",
    "# Notice that Q-Hawkes and Hawkes implementations are considerably slower than Bates for Bermudan options.\n",
    "# This is most likely due to the extra loop used to avoid excessive memory allocation. A proper comparison\n",
    "# would require using a compiled language (C/C++) since it does not penalize the extra loop so much.\n",
    "print(time_e/nrep,time_h/nrep,time_p/nrep)\n",
    "\n",
    "plt.figure()\n",
    "plt.plot(M,IVbe,'r*')\n",
    "plt.plot(M,IVbh,'bx')\n",
    "plt.plot(M,IVbp,'g^')\n",
    "plt.xlabel('Exercise dates',fontsize=16)\n",
    "plt.ylabel('Implied volatility',fontsize=16)\n",
    "plt.legend(('Q-Hawkes','Hawkes','Poisson'),fontsize=12)\n",
    "plt.show()"
   ],
   "metadata": {
    "collapsed": false,
    "pycharm": {
     "name": "#%%\n",
     "is_executing": true
    }
   }
  },
  {
   "cell_type": "code",
   "execution_count": null,
   "outputs": [],
   "source": [],
   "metadata": {
    "collapsed": false,
    "pycharm": {
     "name": "#%%\n"
    }
   }
  }
 ],
 "metadata": {
  "kernelspec": {
   "display_name": "Python 3",
   "language": "python",
   "name": "python3"
  },
  "language_info": {
   "codemirror_mode": {
    "name": "ipython",
    "version": 2
   },
   "file_extension": ".py",
   "mimetype": "text/x-python",
   "name": "python",
   "nbconvert_exporter": "python",
   "pygments_lexer": "ipython2",
   "version": "2.7.6"
  }
 },
 "nbformat": 4,
 "nbformat_minor": 0
}